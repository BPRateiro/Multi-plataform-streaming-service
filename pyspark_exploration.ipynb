{
 "cells": [
  {
   "attachments": {},
   "cell_type": "markdown",
   "metadata": {},
   "source": [
    "## PySpark exploration\n",
    "\n",
    "### Creating a session"
   ]
  },
  {
   "cell_type": "code",
   "execution_count": 1,
   "metadata": {},
   "outputs": [
    {
     "data": {
      "text/html": [
       "\n",
       "            <div>\n",
       "                <p><b>SparkSession - in-memory</b></p>\n",
       "                \n",
       "        <div>\n",
       "            <p><b>SparkContext</b></p>\n",
       "\n",
       "            <p><a href=\"http://host.docker.internal:4040\">Spark UI</a></p>\n",
       "\n",
       "            <dl>\n",
       "              <dt>Version</dt>\n",
       "                <dd><code>v3.3.2</code></dd>\n",
       "              <dt>Master</dt>\n",
       "                <dd><code>local[*]</code></dd>\n",
       "              <dt>AppName</dt>\n",
       "                <dd><code>multi_device</code></dd>\n",
       "            </dl>\n",
       "        </div>\n",
       "        \n",
       "            </div>\n",
       "        "
      ],
      "text/plain": [
       "<pyspark.sql.session.SparkSession at 0x289a881d410>"
      ]
     },
     "execution_count": 1,
     "metadata": {},
     "output_type": "execute_result"
    }
   ],
   "source": [
    "from pyspark.sql import SparkSession\n",
    "\n",
    "# Everytime we use spark we need to create a session\n",
    "spark = SparkSession.builder.appName('multi_device').getOrCreate()\n",
    "spark"
   ]
  },
  {
   "attachments": {},
   "cell_type": "markdown",
   "metadata": {},
   "source": [
    "### Reading, selecting and showing columns"
   ]
  },
  {
   "cell_type": "code",
   "execution_count": 2,
   "metadata": {},
   "outputs": [
    {
     "name": "stdout",
     "output_type": "stream",
     "text": [
      "+------------------+------------------+--------------------+-------------------+\n",
      "|       Time on App|   Time on Website|Length of Membership|Yearly Amount Spent|\n",
      "+------------------+------------------+--------------------+-------------------+\n",
      "| 12.65565114916675| 39.57766801952616|  4.0826206329529615|  587.9510539684005|\n",
      "|11.109460728682564|37.268958868297744|    2.66403418213262|  392.2049334443264|\n",
      "|11.330278057777512|37.110597442120856|   4.104543202376424| 487.54750486747207|\n",
      "|13.717513665142507| 36.72128267790313|   3.120178782748092|  581.8523440352177|\n",
      "|12.795188551078114| 37.53665330059473|   4.446308318351434|  599.4060920457634|\n",
      "+------------------+------------------+--------------------+-------------------+\n",
      "only showing top 5 rows\n",
      "\n"
     ]
    }
   ],
   "source": [
    "# 'option' tells spark to use the first line as header, 'inferSchema' tries to infer dtypes from file\n",
    "df = spark.read.option('header','true').csv('userInformation.csv', inferSchema=True)\n",
    "\n",
    "# Alternatively we could write:\n",
    "df = spark.read.csv('userInformation.csv', inferSchema=True, header=True)\n",
    "\n",
    "# 'show' is equivalent to 'head' in pandas, necessary to print DF to screen\n",
    "# default value for show is 20\n",
    "df.show(5)"
   ]
  },
  {
   "cell_type": "code",
   "execution_count": 3,
   "metadata": {},
   "outputs": [
    {
     "name": "stdout",
     "output_type": "stream",
     "text": [
      "root\n",
      " |-- Time on App: double (nullable = true)\n",
      " |-- Time on Website: double (nullable = true)\n",
      " |-- Length of Membership: double (nullable = true)\n",
      " |-- Yearly Amount Spent: double (nullable = true)\n",
      "\n"
     ]
    }
   ],
   "source": [
    "df.printSchema() # Similar to 'info' in pandas"
   ]
  },
  {
   "cell_type": "code",
   "execution_count": 4,
   "metadata": {},
   "outputs": [
    {
     "data": {
      "text/plain": [
       "['Time on App',\n",
       " 'Time on Website',\n",
       " 'Length of Membership',\n",
       " 'Yearly Amount Spent']"
      ]
     },
     "execution_count": 4,
     "metadata": {},
     "output_type": "execute_result"
    }
   ],
   "source": [
    "df.columns # Get column names, just like in pandas"
   ]
  },
  {
   "cell_type": "code",
   "execution_count": 5,
   "metadata": {},
   "outputs": [
    {
     "name": "stdout",
     "output_type": "stream",
     "text": [
      "+------------------+-------------------+\n",
      "|       Time on App|Yearly Amount Spent|\n",
      "+------------------+-------------------+\n",
      "| 12.65565114916675|  587.9510539684005|\n",
      "|11.109460728682564|  392.2049334443264|\n",
      "|11.330278057777512| 487.54750486747207|\n",
      "|13.717513665142507|  581.8523440352177|\n",
      "|12.795188551078114|  599.4060920457634|\n",
      "+------------------+-------------------+\n",
      "only showing top 5 rows\n",
      "\n"
     ]
    }
   ],
   "source": [
    "# Selecting multiple columns, almost like 'loc' in pandas\n",
    "# Unfortunately, slicing doesn't work\n",
    "df.select(['Time on App', 'Yearly Amount Spent']).show(5)"
   ]
  },
  {
   "cell_type": "code",
   "execution_count": 6,
   "metadata": {},
   "outputs": [
    {
     "data": {
      "text/plain": [
       "Column<'Time on App'>"
      ]
     },
     "execution_count": 6,
     "metadata": {},
     "output_type": "execute_result"
    }
   ],
   "source": [
    "# Directly selecting columns would return a column element that we can use to refer to the data\n",
    "# but it doesn't have a 'show' method\n",
    "df['Time on App']"
   ]
  },
  {
   "cell_type": "code",
   "execution_count": 7,
   "metadata": {},
   "outputs": [
    {
     "name": "stdout",
     "output_type": "stream",
     "text": [
      "+-------+------------------+------------------+--------------------+-------------------+\n",
      "|summary|       Time on App|   Time on Website|Length of Membership|Yearly Amount Spent|\n",
      "+-------+------------------+------------------+--------------------+-------------------+\n",
      "|  count|               500|               500|                 500|                500|\n",
      "|   mean|12.052487937166134| 37.06044542094859|   3.533461555915055|  499.3140382585909|\n",
      "| stddev|0.9942156084725424|1.0104889067564033|  0.9992775024112585|   79.3147815497068|\n",
      "|    min| 8.508152176032603| 33.91384724758464|  0.2699010899842742| 256.67058229005585|\n",
      "|    max|15.126994288792467|40.005181638101895|   6.922689335035808|  765.5184619388373|\n",
      "+-------+------------------+------------------+--------------------+-------------------+\n",
      "\n"
     ]
    }
   ],
   "source": [
    "df.describe().show() # Statistical summary"
   ]
  },
  {
   "attachments": {},
   "cell_type": "markdown",
   "metadata": {},
   "source": [
    "### Adding, dropping and renaming columns in a data frame"
   ]
  },
  {
   "cell_type": "code",
   "execution_count": 8,
   "metadata": {},
   "outputs": [
    {
     "name": "stdout",
     "output_type": "stream",
     "text": [
      "+------------------+------------------+--------------------+-------------------+-------------------+\n",
      "|       Time on App|   Time on Website|Length of Membership|Yearly Amount Spent|Membership after 5y|\n",
      "+------------------+------------------+--------------------+-------------------+-------------------+\n",
      "| 12.65565114916675| 39.57766801952616|  4.0826206329529615|  587.9510539684005|  9.082620632952962|\n",
      "|11.109460728682564|37.268958868297744|    2.66403418213262|  392.2049334443264|   7.66403418213262|\n",
      "|11.330278057777512|37.110597442120856|   4.104543202376424| 487.54750486747207|  9.104543202376423|\n",
      "|13.717513665142507| 36.72128267790313|   3.120178782748092|  581.8523440352177|  8.120178782748091|\n",
      "|12.795188551078114| 37.53665330059473|   4.446308318351434|  599.4060920457634|  9.446308318351434|\n",
      "+------------------+------------------+--------------------+-------------------+-------------------+\n",
      "only showing top 5 rows\n",
      "\n"
     ]
    }
   ],
   "source": [
    "# Creates a dummy column that adds 5y to the current length of membership\n",
    "# not an inplace operation\n",
    "df = df.withColumn('Membership after 5y', df['Length of Membership']+5)\n",
    "df.show(5)"
   ]
  },
  {
   "cell_type": "code",
   "execution_count": 9,
   "metadata": {},
   "outputs": [
    {
     "name": "stdout",
     "output_type": "stream",
     "text": [
      "+------------------+------------------+--------------------+-------------------+-----------------+\n",
      "|       Time on App|   Time on Website|Length of Membership|Yearly Amount Spent|         After 5y|\n",
      "+------------------+------------------+--------------------+-------------------+-----------------+\n",
      "| 12.65565114916675| 39.57766801952616|  4.0826206329529615|  587.9510539684005|9.082620632952962|\n",
      "|11.109460728682564|37.268958868297744|    2.66403418213262|  392.2049334443264| 7.66403418213262|\n",
      "|11.330278057777512|37.110597442120856|   4.104543202376424| 487.54750486747207|9.104543202376423|\n",
      "|13.717513665142507| 36.72128267790313|   3.120178782748092|  581.8523440352177|8.120178782748091|\n",
      "|12.795188551078114| 37.53665330059473|   4.446308318351434|  599.4060920457634|9.446308318351434|\n",
      "+------------------+------------------+--------------------+-------------------+-----------------+\n",
      "only showing top 5 rows\n",
      "\n"
     ]
    }
   ],
   "source": [
    "# Renames a given column, not an inplace operation\n",
    "df = df.withColumnRenamed('Membership after 5y', 'After 5y')\n",
    "df.show(5)"
   ]
  },
  {
   "cell_type": "code",
   "execution_count": 10,
   "metadata": {},
   "outputs": [
    {
     "name": "stdout",
     "output_type": "stream",
     "text": [
      "+------------------+------------------+--------------------+-------------------+\n",
      "|       Time on App|   Time on Website|Length of Membership|Yearly Amount Spent|\n",
      "+------------------+------------------+--------------------+-------------------+\n",
      "| 12.65565114916675| 39.57766801952616|  4.0826206329529615|  587.9510539684005|\n",
      "|11.109460728682564|37.268958868297744|    2.66403418213262|  392.2049334443264|\n",
      "|11.330278057777512|37.110597442120856|   4.104543202376424| 487.54750486747207|\n",
      "|13.717513665142507| 36.72128267790313|   3.120178782748092|  581.8523440352177|\n",
      "|12.795188551078114| 37.53665330059473|   4.446308318351434|  599.4060920457634|\n",
      "+------------------+------------------+--------------------+-------------------+\n",
      "only showing top 5 rows\n",
      "\n"
     ]
    }
   ],
   "source": [
    "# Drops column we just created, not an inplace operation\n",
    "df = df.drop('After 5y')\n",
    "df.show(5)"
   ]
  },
  {
   "attachments": {},
   "cell_type": "markdown",
   "metadata": {},
   "source": [
    "### Handling Missing values"
   ]
  },
  {
   "cell_type": "code",
   "execution_count": 11,
   "metadata": {},
   "outputs": [
    {
     "name": "stdout",
     "output_type": "stream",
     "text": [
      "+------------------+------------------+--------------------+-------------------+\n",
      "|       Time on App|   Time on Website|Length of Membership|Yearly Amount Spent|\n",
      "+------------------+------------------+--------------------+-------------------+\n",
      "| 12.65565114916675| 39.57766801952616|  4.0826206329529615|  587.9510539684005|\n",
      "|11.109460728682564|37.268958868297744|    2.66403418213262|  392.2049334443264|\n",
      "|11.330278057777512|37.110597442120856|   4.104543202376424| 487.54750486747207|\n",
      "|13.717513665142507| 36.72128267790313|   3.120178782748092|  581.8523440352177|\n",
      "|12.795188551078114| 37.53665330059473|   4.446308318351434|  599.4060920457634|\n",
      "+------------------+------------------+--------------------+-------------------+\n",
      "only showing top 5 rows\n",
      "\n"
     ]
    }
   ],
   "source": [
    "# Dropping values, not inplace operation\n",
    "subset = ['Time on App', 'Time on Website'] # Collection of columns\n",
    "\n",
    "# 'na' attribute gets all rows with missing values\n",
    "df.na.drop(\n",
    "    how = 'any',        # any (default)| all: at least one null | necessarily all nulls\n",
    "    thresh = 2,         # Tolerance threshold for null values\n",
    "    subset = subset     # Limit function to subset of columns\n",
    ").show(5)"
   ]
  },
  {
   "cell_type": "code",
   "execution_count": 12,
   "metadata": {},
   "outputs": [
    {
     "name": "stdout",
     "output_type": "stream",
     "text": [
      "+------------------+------------------+--------------------+-------------------+\n",
      "|       Time on App|   Time on Website|Length of Membership|Yearly Amount Spent|\n",
      "+------------------+------------------+--------------------+-------------------+\n",
      "| 12.65565114916675| 39.57766801952616|  4.0826206329529615|  587.9510539684005|\n",
      "|11.109460728682564|37.268958868297744|    2.66403418213262|  392.2049334443264|\n",
      "|11.330278057777512|37.110597442120856|   4.104543202376424| 487.54750486747207|\n",
      "|13.717513665142507| 36.72128267790313|   3.120178782748092|  581.8523440352177|\n",
      "|12.795188551078114| 37.53665330059473|   4.446308318351434|  599.4060920457634|\n",
      "+------------------+------------------+--------------------+-------------------+\n",
      "only showing top 5 rows\n",
      "\n"
     ]
    }
   ],
   "source": [
    "# Filling values with a certain value, not inplace operation\n",
    "df.na.fill(\n",
    "    value = 'Missing',  # Replace value for null\n",
    "    subset = subset,    # Subset of columns to apply\n",
    ").show(5)"
   ]
  },
  {
   "cell_type": "code",
   "execution_count": 13,
   "metadata": {},
   "outputs": [
    {
     "name": "stdout",
     "output_type": "stream",
     "text": [
      "+------------------+------------------+--------------------+-------------------+-------------------+-----------------------+\n",
      "|       Time on App|   Time on Website|Length of Membership|Yearly Amount Spent|Time on App imputed|Time on Website imputed|\n",
      "+------------------+------------------+--------------------+-------------------+-------------------+-----------------------+\n",
      "| 12.65565114916675| 39.57766801952616|  4.0826206329529615|  587.9510539684005|  12.65565114916675|      39.57766801952616|\n",
      "|11.109460728682564|37.268958868297744|    2.66403418213262|  392.2049334443264| 11.109460728682564|     37.268958868297744|\n",
      "|11.330278057777512|37.110597442120856|   4.104543202376424| 487.54750486747207| 11.330278057777512|     37.110597442120856|\n",
      "|13.717513665142507| 36.72128267790313|   3.120178782748092|  581.8523440352177| 13.717513665142507|      36.72128267790313|\n",
      "|12.795188551078114| 37.53665330059473|   4.446308318351434|  599.4060920457634| 12.795188551078114|      37.53665330059473|\n",
      "+------------------+------------------+--------------------+-------------------+-------------------+-----------------------+\n",
      "only showing top 5 rows\n",
      "\n"
     ]
    }
   ],
   "source": [
    "# Filling with statistics\n",
    "from pyspark.ml.feature import Imputer\n",
    "\n",
    "# Equivalent to column transformer in sklearn\n",
    "imputer = Imputer(\n",
    "    inputCols = subset,                             # Will apply to subset of columns\n",
    "    outputCols = [f'{c} imputed' for c in subset]   # Creates a modified feature in format we defined\n",
    ").setStrategy('mean')                               # Could be mean, mode or median\n",
    "\n",
    "imputer.fit(df).transform(df).show(5)"
   ]
  },
  {
   "attachments": {},
   "cell_type": "markdown",
   "metadata": {},
   "source": [
    "### Filtering operations"
   ]
  },
  {
   "cell_type": "code",
   "execution_count": 14,
   "metadata": {},
   "outputs": [
    {
     "name": "stdout",
     "output_type": "stream",
     "text": [
      "+------------------+------------------+--------------------+-------------------+\n",
      "|       Time on App|   Time on Website|Length of Membership|Yearly Amount Spent|\n",
      "+------------------+------------------+--------------------+-------------------+\n",
      "|11.109460728682564|37.268958868297744|    2.66403418213262|  392.2049334443264|\n",
      "|11.330278057777512|37.110597442120856|   4.104543202376424| 487.54750486747207|\n",
      "|12.026925339755056| 34.47687762925054|   5.493507201364199|   637.102447915074|\n",
      "|11.366348309710526| 36.68377615286961|   4.685017246570912|  521.5721747578274|\n",
      "|11.814128294972196| 37.14516822352819|   3.202806071553459|  427.1993848953282|\n",
      "+------------------+------------------+--------------------+-------------------+\n",
      "only showing top 5 rows\n",
      "\n"
     ]
    }
   ],
   "source": [
    "# Get mean from a column, say 'Time on App'\n",
    "# Agg function returns a dataframe and collect returns a list of rows\n",
    "mean_toa = df.agg({'Time on App': 'mean'}).collect()[0][0]\n",
    "\n",
    "# Selecting all data from users that spent less than the mean amount of 'Time on App'\n",
    "df.filter(df['Time on App'] < mean_toa).show(5)"
   ]
  },
  {
   "cell_type": "code",
   "execution_count": 15,
   "metadata": {},
   "outputs": [
    {
     "name": "stdout",
     "output_type": "stream",
     "text": [
      "+------------------+------------------+--------------------+-------------------+\n",
      "|       Time on App|   Time on Website|Length of Membership|Yearly Amount Spent|\n",
      "+------------------+------------------+--------------------+-------------------+\n",
      "|11.109460728682564|37.268958868297744|    2.66403418213262|  392.2049334443264|\n",
      "|11.330278057777512|37.110597442120856|   4.104543202376424| 487.54750486747207|\n",
      "|11.814128294972196| 37.14516822352819|   3.202806071553459|  427.1993848953282|\n",
      "|11.584782999535266| 37.08792607098381|    3.71320920294043|  522.3374046069357|\n",
      "|10.961298400154098| 37.42021557502538|   4.046423164299585|  408.6403510726275|\n",
      "+------------------+------------------+--------------------+-------------------+\n",
      "only showing top 5 rows\n",
      "\n"
     ]
    }
   ],
   "source": [
    "# Get mean time on website\n",
    "mean_tow = df.agg({'Time on Website': 'mean'}).collect()[0][0]\n",
    "\n",
    "# Selecting users that spent less time on App than the mean\n",
    "# but spent more time than average on website\n",
    "df.filter(\n",
    "    (df['Time on App'] < mean_toa) &\n",
    "    (df['Time on Website'] > mean_tow)\n",
    ").show(5)"
   ]
  },
  {
   "attachments": {},
   "cell_type": "markdown",
   "metadata": {},
   "source": [
    "### Group by and aggregation"
   ]
  },
  {
   "cell_type": "code",
   "execution_count": 16,
   "metadata": {},
   "outputs": [
    {
     "name": "stdout",
     "output_type": "stream",
     "text": [
      "+----------+------------------+------------------+--------------------+-------------------+\n",
      "|ToA bucket|       Time on App|   Time on Website|Length of Membership|Yearly Amount Spent|\n",
      "+----------+------------------+------------------+--------------------+-------------------+\n",
      "|       2.0| 12.65565114916675| 39.57766801952616|  4.0826206329529615|  587.9510539684005|\n",
      "|       1.0|11.109460728682564|37.268958868297744|    2.66403418213262|  392.2049334443264|\n",
      "|       1.0|11.330278057777512|37.110597442120856|   4.104543202376424| 487.54750486747207|\n",
      "|       2.0|13.717513665142507| 36.72128267790313|   3.120178782748092|  581.8523440352177|\n",
      "|       2.0|12.795188551078114| 37.53665330059473|   4.446308318351434|  599.4060920457634|\n",
      "+----------+------------------+------------------+--------------------+-------------------+\n",
      "only showing top 5 rows\n",
      "\n"
     ]
    }
   ],
   "source": [
    "# First we are going to need a of category\n",
    "from pyspark.ml.feature import Bucketizer\n",
    "\n",
    "# Trying to simulate pandas cut\n",
    "bucketizer = Bucketizer(\n",
    "    splits = list(range(8,17,2)),   # We knew the min and max values beforehand\n",
    "    inputCol = 'Time on App',           \n",
    "    outputCol = 'ToA bucket',    \n",
    ")\n",
    "\n",
    "dfb = bucketizer.transform(df)  # Create new column by applying bucketizer\n",
    "dfb = dfb.select('ToA bucket',*df.columns)  # Put new column first\n",
    "dfb.show(5)"
   ]
  },
  {
   "cell_type": "code",
   "execution_count": 17,
   "metadata": {},
   "outputs": [
    {
     "name": "stdout",
     "output_type": "stream",
     "text": [
      "+----------+---------------+------------------+--------------------+\n",
      "|ToA bucket|avg(ToA bucket)|  avg(Time on App)|avg(Time on Website)|\n",
      "+----------+---------------+------------------+--------------------+\n",
      "|       0.0|            0.0| 9.514189524389298|   36.59707105206839|\n",
      "|       1.0|            1.0|11.333410770234082|   37.04831104588746|\n",
      "|       3.0|            3.0|14.346744842142908|   37.42402072272212|\n",
      "|       2.0|            2.0|12.787793427997197|   37.07685703208166|\n",
      "+----------+---------------+------------------+--------------------+\n",
      "\n"
     ]
    }
   ],
   "source": [
    "# Seeing average time spent on both app and website by ToA bucket on selected columns\n",
    "dfb.select(['ToA bucket', 'Time on App', 'Time on Website']).groupBy('ToA bucket').mean().show(5)"
   ]
  },
  {
   "attachments": {},
   "cell_type": "markdown",
   "metadata": {},
   "source": [
    "### Linear Regression ML example"
   ]
  },
  {
   "cell_type": "code",
   "execution_count": 18,
   "metadata": {},
   "outputs": [
    {
     "name": "stdout",
     "output_type": "stream",
     "text": [
      "+-------------------+--------------------+\n",
      "|Yearly Amount Spent|Independent Features|\n",
      "+-------------------+--------------------+\n",
      "|  587.9510539684005|[12.6556511491667...|\n",
      "|  392.2049334443264|[11.1094607286825...|\n",
      "| 487.54750486747207|[11.3302780577775...|\n",
      "|  581.8523440352177|[13.7175136651425...|\n",
      "|  599.4060920457634|[12.7951885510781...|\n",
      "+-------------------+--------------------+\n",
      "only showing top 5 rows\n",
      "\n"
     ]
    }
   ],
   "source": [
    "# In order to define features, we need to combine them into a single column\n",
    "from pyspark.ml.feature import VectorAssembler\n",
    "\n",
    "feature_lst = ['Time on App', 'Time on Website', 'Length of Membership']\n",
    "\n",
    "featureassembler = VectorAssembler(\n",
    "    inputCols = feature_lst,\n",
    "    outputCol = 'Independent Features',\n",
    ")\n",
    "\n",
    "# Create a collaped feature column and our target and select only what's going\n",
    "# to be used during linear regression\n",
    "output = featureassembler.transform(df).select('Yearly Amount Spent', 'Independent Features')\n",
    "output.show(5)"
   ]
  },
  {
   "cell_type": "code",
   "execution_count": 19,
   "metadata": {},
   "outputs": [
    {
     "data": {
      "text/plain": [
       "(DenseVector([37.5442, -0.5206, 62.4927]), -155.00108861158685)"
      ]
     },
     "execution_count": 19,
     "metadata": {},
     "output_type": "execute_result"
    }
   ],
   "source": [
    "from pyspark.ml.regression import LinearRegression\n",
    "\n",
    "# Train test split\n",
    "train_data, test_data = output.randomSplit([0.9, 0.1])\n",
    "\n",
    "# Baseline model\n",
    "regressor = LinearRegression(\n",
    "    featuresCol='Independent Features', \n",
    "    labelCol='Yearly Amount Spent',\n",
    ").fit(train_data)\n",
    "\n",
    "# Coefficients and intercept of a linear regression\n",
    "regressor.coefficients, regressor.intercept"
   ]
  },
  {
   "cell_type": "code",
   "execution_count": 20,
   "metadata": {},
   "outputs": [
    {
     "name": "stdout",
     "output_type": "stream",
     "text": [
      "+-------------------+--------------------+------------------+\n",
      "|Yearly Amount Spent|Independent Features|        prediction|\n",
      "+-------------------+--------------------+------------------+\n",
      "|  282.4712457199145|[11.5629362466526...| 352.9799980365739|\n",
      "| 350.05820016384513|[11.9192423979391...|362.24898020364196|\n",
      "|  357.7831107453153|[10.0794634519524...| 367.2198624429551|\n",
      "|  375.3984554102432|[10.8048905576416...|399.90551285156516|\n",
      "| 378.47356644790113|[10.5345534994610...|359.63764624811915|\n",
      "+-------------------+--------------------+------------------+\n",
      "only showing top 5 rows\n",
      "\n"
     ]
    }
   ],
   "source": [
    "# Prediction\n",
    "predictions = regressor.evaluate(test_data)\n",
    "predictions.predictions.show(5)"
   ]
  },
  {
   "cell_type": "code",
   "execution_count": 21,
   "metadata": {},
   "outputs": [
    {
     "data": {
      "text/plain": [
       "(21.654129499873985, 698.6670224736819)"
      ]
     },
     "execution_count": 21,
     "metadata": {},
     "output_type": "execute_result"
    }
   ],
   "source": [
    "# Some evaluation metrics\n",
    "predictions.meanAbsoluteError, predictions.meanSquaredError"
   ]
  }
 ],
 "metadata": {
  "kernelspec": {
   "display_name": "Python 3",
   "language": "python",
   "name": "python3"
  },
  "language_info": {
   "codemirror_mode": {
    "name": "ipython",
    "version": 3
   },
   "file_extension": ".py",
   "mimetype": "text/x-python",
   "name": "python",
   "nbconvert_exporter": "python",
   "pygments_lexer": "ipython3",
   "version": "3.11.2"
  },
  "orig_nbformat": 4
 },
 "nbformat": 4,
 "nbformat_minor": 2
}
